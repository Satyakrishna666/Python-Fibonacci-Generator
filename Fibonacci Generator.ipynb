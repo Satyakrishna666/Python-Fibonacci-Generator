{
 "cells": [
  {
   "cell_type": "code",
   "execution_count": 5,
   "id": "9fd5833d",
   "metadata": {},
   "outputs": [
    {
     "name": "stdout",
     "output_type": "stream",
     "text": [
      "Enter how many Fibonacci numbers you want: 5\n",
      "[0, 1, 1, 2, 3]\n"
     ]
    }
   ],
   "source": [
    "def fibonacci_generator():\n",
    "    a, b = 0, 1\n",
    "    while True:\n",
    "        yield a\n",
    "        a, b = b, a + b\n",
    "\n",
    "def generate_n_fibonacci(n):\n",
    "    fib = fibonacci_generator()\n",
    "    return [next(fib) for _ in range(n)]\n",
    "\n",
    "# Example usage\n",
    "n = int(input(\"Enter how many Fibonacci numbers you want: \"))\n",
    "fib_sequence = generate_n_fibonacci(n)\n",
    "print(fib_sequence)"
   ]
  },
  {
   "cell_type": "code",
   "execution_count": 6,
   "id": "8027304a",
   "metadata": {},
   "outputs": [
    {
     "name": "stdout",
     "output_type": "stream",
     "text": [
      "Choose an option:\n",
      "1. Generate a specified number of Fibonacci numbers\n",
      "2. Generate Fibonacci numbers until a certain value\n",
      "3. Generate Fibonacci numbers within a range\n",
      "Enter your choice (1/2/3): 1\n",
      "Enter how many Fibonacci numbers you want: 20\n",
      "Generated Fibonacci sequence: [0, 1, 1, 2, 3, 5, 8, 13, 21, 34, 55, 89, 144, 233, 377, 610, 987, 1597, 2584, 4181]\n"
     ]
    }
   ],
   "source": [
    "def fibonacci_generator():\n",
    "    a, b = 0, 1\n",
    "    while True:\n",
    "        yield a\n",
    "        a, b = b, a + b\n",
    "\n",
    "def generate_n_fibonacci(n):\n",
    "    fib = fibonacci_generator()\n",
    "    return [next(fib) for _ in range(n)]\n",
    "\n",
    "def generate_until_value(max_value):\n",
    "    fib = fibonacci_generator()\n",
    "    sequence = []\n",
    "    while True:\n",
    "        num = next(fib)\n",
    "        if num > max_value:\n",
    "            break\n",
    "        sequence.append(num)\n",
    "    return sequence\n",
    "\n",
    "def generate_in_range(start, end):\n",
    "    fib = fibonacci_generator()\n",
    "    sequence = []\n",
    "    while True:\n",
    "        num = next(fib)\n",
    "        if num > end:\n",
    "            break\n",
    "        if num >= start:\n",
    "            sequence.append(num)\n",
    "    return sequence\n",
    "\n",
    "def main():\n",
    "    print(\"Choose an option:\")\n",
    "    print(\"1. Generate a specified number of Fibonacci numbers\")\n",
    "    print(\"2. Generate Fibonacci numbers until a certain value\")\n",
    "    print(\"3. Generate Fibonacci numbers within a range\")\n",
    "    \n",
    "    choice = int(input(\"Enter your choice (1/2/3): \"))\n",
    "    \n",
    "    if choice == 1:\n",
    "        n = int(input(\"Enter how many Fibonacci numbers you want: \"))\n",
    "        result = generate_n_fibonacci(n)\n",
    "    elif choice == 2:\n",
    "        max_value = int(input(\"Enter the maximum value for the Fibonacci sequence: \"))\n",
    "        result = generate_until_value(max_value)\n",
    "    elif choice == 3:\n",
    "        start = int(input(\"Enter the start of the range: \"))\n",
    "        end = int(input(\"Enter the end of the range: \"))\n",
    "        result = generate_in_range(start, end)\n",
    "    else:\n",
    "        print(\"Invalid choice!\")\n",
    "        return\n",
    "    \n",
    "    print(\"Generated Fibonacci sequence:\", result)\n",
    "\n",
    "# Run the program\n",
    "if __name__ == \"__main__\":\n",
    "    main()\n"
   ]
  },
  {
   "cell_type": "code",
   "execution_count": null,
   "id": "0765b07a",
   "metadata": {},
   "outputs": [],
   "source": []
  }
 ],
 "metadata": {
  "kernelspec": {
   "display_name": "Python 3 (ipykernel)",
   "language": "python",
   "name": "python3"
  },
  "language_info": {
   "codemirror_mode": {
    "name": "ipython",
    "version": 3
   },
   "file_extension": ".py",
   "mimetype": "text/x-python",
   "name": "python",
   "nbconvert_exporter": "python",
   "pygments_lexer": "ipython3",
   "version": "3.9.12"
  }
 },
 "nbformat": 4,
 "nbformat_minor": 5
}
